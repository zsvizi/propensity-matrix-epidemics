{
 "cells": [
  {
   "cell_type": "code",
   "execution_count": null,
   "metadata": {},
   "outputs": [],
   "source": [
    "import json\n",
    "import os\n",
    "\n",
    "import matplotlib.pyplot as plt\n",
    "import numpy as np"
   ]
  },
  {
   "cell_type": "code",
   "execution_count": null,
   "metadata": {},
   "outputs": [],
   "source": [
    "do_sim_run = False"
   ]
  },
  {
   "cell_type": "code",
   "execution_count": null,
   "metadata": {},
   "outputs": [],
   "source": [
    "graph_dict = json.load(open(\"graph_dict.json\"))"
   ]
  },
  {
   "cell_type": "code",
   "execution_count": null,
   "metadata": {},
   "outputs": [],
   "source": [
    "from simulator import Simulator"
   ]
  },
  {
   "cell_type": "code",
   "execution_count": null,
   "metadata": {},
   "outputs": [],
   "source": [
    "sim = Simulator(graph_dict=graph_dict)"
   ]
  },
  {
   "cell_type": "code",
   "execution_count": null,
   "metadata": {},
   "outputs": [],
   "source": [
    "if do_sim_run:\n",
    "    sim.run_conf()"
   ]
  },
  {
   "cell_type": "code",
   "execution_count": null,
   "metadata": {},
   "outputs": [],
   "source": [
    "data=np.load(\"./data/simulation_1.npz\")\n",
    "time_series = data['t']\n",
    "state_var = data['y']"
   ]
  },
  {
   "cell_type": "code",
   "execution_count": null,
   "metadata": {},
   "outputs": [],
   "source": [
    "# Plot aggregated states\n",
    "\n",
    "aggregated = np.sum(state_var, axis=2)\n",
    "\n",
    "fig, ax = plt.subplots()\n",
    "ax.plot(time_series, aggregated[:, sim.c_idx[\"S\"]], \"g\")\n",
    "ax.plot(time_series, aggregated[:, sim.c_idx[\"E\"]], \"r\")\n",
    "ax.plot(time_series, aggregated[:, sim.c_idx[\"I\"]], \"b\")\n",
    "ax.plot(time_series, aggregated[:, sim.c_idx[\"R\"]], \"purple\")\n",
    "ax.legend([\"Susceptibles\", \"Exposed\", \"Infected\", \"Recovered\"], loc=\"best\") \n",
    "plt.show()"
   ]
  },
  {
   "cell_type": "code",
   "execution_count": null,
   "metadata": {},
   "outputs": [],
   "source": [
    "# Plot susceptibles by age\n",
    "\n",
    "fig, ax = plt.subplots()\n",
    "ax.plot(time_series, state_var[:, sim.c_idx[\"S\"], 0], \"g\")\n",
    "ax.plot(time_series, state_var[:, sim.c_idx[\"S\"], 1], \"r\")\n",
    "ax.plot(time_series, state_var[:, sim.c_idx[\"S\"], 2], \"b\")\n",
    "ax.legend([\"Age group 0-14\", \"Age group 15-59\", \"Age group 60+\"], loc=\"best\") \n",
    "plt.show()"
   ]
  },
  {
   "cell_type": "code",
   "execution_count": null,
   "metadata": {},
   "outputs": [],
   "source": [
    "to_plot = []\n",
    "peak_sizes = []\n",
    "\n",
    "daily_data = []\n",
    "\n",
    "for sim_cnt in range(104):\n",
    "    # Load data\n",
    "    data=np.load(\"./data/simulation_\" + str(sim_cnt) + \".npz\")\n",
    "    time_series = data['t']\n",
    "    state_var = data['y']\n",
    "    # Save data for multiple time series plot\n",
    "    aggregated = np.sum(state_var, axis=2)\n",
    "    to_plot.append((time_series, aggregated[:, sim.c_idx[\"I\"]]))\n",
    "    \n",
    "    # Generate daily data\n",
    "    day = 1\n",
    "    day_i = []\n",
    "    days = []\n",
    "    t_prev = None\n",
    "    i_prev = None\n",
    "    for t, y in zip(time_series, aggregated[:, sim.c_idx[\"I\"]]):\n",
    "        if t_prev is not None:\n",
    "            if (t - t_prev) > 1.0:\n",
    "                for d in range(day, int(t) + 1):\n",
    "                    days.append(d)\n",
    "                    day_i.append(i_prev)\n",
    "                day = int(t) + 1\n",
    "            elif t_prev <= day < t:\n",
    "                days.append(day)\n",
    "                day = int(t) + 1\n",
    "                day_i.append(i_prev)\n",
    "        else:\n",
    "            day_i.append(y)\n",
    "            days.append(t)\n",
    "        t_prev = t\n",
    "        i_prev = y\n",
    "    daily_data.append((days, day_i))\n",
    "    \n",
    "    # Save data fpr confidence plot\n",
    "    i_agg_max = np.amax(aggregated[:, sim.c_idx[\"I\"]])\n",
    "    peak_sizes.append(i_agg_max)\n",
    "\n",
    "s = np.std(np.array(peak_sizes))"
   ]
  },
  {
   "cell_type": "code",
   "execution_count": null,
   "metadata": {},
   "outputs": [],
   "source": [
    "# Plot multiple loaded time series\n",
    "\n",
    "fig, ax = plt.subplots()\n",
    "for ts, sv in to_plot:\n",
    "    ax.plot(ts, sv)\n",
    "plt.show()"
   ]
  },
  {
   "cell_type": "code",
   "execution_count": null,
   "metadata": {},
   "outputs": [],
   "source": [
    "os.makedirs('./plots', exist_ok=True)\n",
    "fig.savefig('./plots/conf_plot.pdf')"
   ]
  },
  {
   "cell_type": "code",
   "execution_count": null,
   "metadata": {},
   "outputs": [],
   "source": [
    "# Plot multiple loaded time series\n",
    "\n",
    "fig, ax = plt.subplots()\n",
    "for ts, sv in daily_data:\n",
    "    ax.plot(ts, sv)\n",
    "plt.show()"
   ]
  },
  {
   "cell_type": "code",
   "execution_count": null,
   "metadata": {},
   "outputs": [],
   "source": [
    "# Plot confidence band\n",
    "\n",
    "fig, ax = plt.subplots()\n",
    "y_data = np.mean(np.array(daily_data[:][1]), axis=0)\n",
    "ax.fill_between(daily_data[0][0], y_data - 2 * s, y_data + 2 * s, alpha=0.3)\n",
    "ax.plot(daily_data[0][0], y_data, \"r\")\n",
    "plt.show()"
   ]
  },
  {
   "cell_type": "code",
   "execution_count": null,
   "metadata": {},
   "outputs": [],
   "source": [
    "os.makedirs('./plots', exist_ok=True)\n",
    "fig.savefig('./plots/conf_plot_2.pdf')"
   ]
  },
  {
   "cell_type": "code",
   "execution_count": null,
   "metadata": {},
   "outputs": [],
   "source": [
    "print(np.array([len(v) for _, v in daily_data]))\n",
    "print(np.array([len(t) for t, _ in daily_data]))"
   ]
  },
  {
   "cell_type": "code",
   "execution_count": null,
   "metadata": {},
   "outputs": [],
   "source": []
  }
 ],
 "metadata": {
  "kernelspec": {
   "display_name": "Python 3 (ipykernel)",
   "language": "python",
   "name": "python3"
  },
  "language_info": {
   "codemirror_mode": {
    "name": "ipython",
    "version": 3
   },
   "file_extension": ".py",
   "mimetype": "text/x-python",
   "name": "python",
   "nbconvert_exporter": "python",
   "pygments_lexer": "ipython3",
   "version": "3.8.10"
  }
 },
 "nbformat": 4,
 "nbformat_minor": 1
}
