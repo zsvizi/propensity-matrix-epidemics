{
 "cells": [
  {
   "cell_type": "code",
   "execution_count": null,
   "metadata": {},
   "outputs": [],
   "source": [
    "import json\n",
    "\n",
    "import matplotlib.pyplot as plt\n",
    "import numpy as np"
   ]
  },
  {
   "cell_type": "code",
   "execution_count": null,
   "metadata": {},
   "outputs": [],
   "source": [
    "graph_dict = json.load(open(\"graph_dict.json\"))"
   ]
  },
  {
   "cell_type": "code",
   "execution_count": null,
   "metadata": {},
   "outputs": [],
   "source": [
    "from simulator import Simulator"
   ]
  },
  {
   "cell_type": "code",
   "execution_count": null,
   "metadata": {},
   "outputs": [],
   "source": [
    "sim = Simulator(graph_dict=graph_dict)\n",
    "sim.run_conf()"
   ]
  },
  {
   "cell_type": "code",
   "execution_count": null,
   "metadata": {},
   "outputs": [],
   "source": [
    "data=np.load(\"./data/simulation_8.npz\")\n",
    "time_series = data['t']\n",
    "state_var = data['y']"
   ]
  },
  {
   "cell_type": "code",
   "execution_count": null,
   "metadata": {},
   "outputs": [],
   "source": [
    "# Code to show graph\n",
    "\n",
    "aggregated = np.sum(state_var, axis=2)\n",
    "\n",
    "fig, ax = plt.subplots()\n",
    "ax.plot(time_series, aggregated[:, sim.c_idx[\"S\"]], \"g\")\n",
    "ax.plot(time_series, aggregated[:, sim.c_idx[\"E\"]], \"r\")\n",
    "ax.plot(time_series, aggregated[:, sim.c_idx[\"I\"]], \"b\")\n",
    "ax.plot(time_series, aggregated[:, sim.c_idx[\"R\"]], \"purple\")\n",
    "ax.legend([\"Susceptibles\", \"Exposed\", \"Infected\", \"Recovered\"], loc=\"best\") \n",
    "plt.show()"
   ]
  },
  {
   "cell_type": "code",
   "execution_count": null,
   "metadata": {},
   "outputs": [],
   "source": [
    "# Code to show graph\n",
    "\n",
    "fig, ax = plt.subplots()\n",
    "ax.plot(time_series, state_var[:, sim.c_idx[\"S\"], 0], \"g\")\n",
    "ax.plot(time_series, state_var[:, sim.c_idx[\"S\"], 1], \"r\")\n",
    "ax.plot(time_series, state_var[:, sim.c_idx[\"S\"], 2], \"b\")\n",
    "ax.legend([\"Age group 0-14\", \"Age group 15-59\", \"Age group 60+\"], loc=\"best\") \n",
    "plt.show()"
   ]
  },
  {
   "cell_type": "code",
   "execution_count": null,
   "metadata": {},
   "outputs": [],
   "source": []
  }
 ],
 "metadata": {
  "kernelspec": {
   "display_name": "Python 3 (ipykernel)",
   "language": "python",
   "name": "python3"
  },
  "language_info": {
   "codemirror_mode": {
    "name": "ipython",
    "version": 3
   },
   "file_extension": ".py",
   "mimetype": "text/x-python",
   "name": "python",
   "nbconvert_exporter": "python",
   "pygments_lexer": "ipython3",
   "version": "3.7.4"
  }
 },
 "nbformat": 4,
 "nbformat_minor": 1
}