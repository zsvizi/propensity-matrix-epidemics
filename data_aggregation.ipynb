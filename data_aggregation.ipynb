{
 "nbformat": 4,
 "nbformat_minor": 0,
 "metadata": {
  "colab": {
   "name": "data_aggregation.ipynb",
   "provenance": []
  },
  "kernelspec": {
   "name": "python3",
   "language": "python",
   "display_name": "Python 3 (ipykernel)"
  },
  "language_info": {
   "name": "python"
  }
 },
 "cells": [
  {
   "cell_type": "code",
   "metadata": {
    "id": "f3637vo2F_00"
   },
   "source": [
    "import numpy as np\n",
    "import pandas as pd\n",
    "import requests\n",
    "import zipfile"
   ],
   "execution_count": 1,
   "outputs": []
  },
  {
   "cell_type": "markdown",
   "metadata": {
    "id": "bKKnzPoo_i1Y"
   },
   "source": [
    "# PREM Aggregation"
   ]
  },
  {
   "cell_type": "code",
   "metadata": {
    "id": "YItLGckoExN2"
   },
   "source": [
    "# Download PREM contact matrices\n",
    "url = 'https://doi.org/10.1371/journal.pcbi.1005697.s002'\n",
    "r = requests.get(url, allow_redirects=True)\n",
    "open(\"cm.zip\", 'wb').write(r.content)\n",
    "\n",
    "# Unzip PREM contact matrices\n",
    "with zipfile.ZipFile('cm.zip', 'r') as zip_ref:\n",
    "    zip_ref.extractall()"
   ],
   "execution_count": 56,
   "outputs": []
  },
  {
   "cell_type": "code",
   "metadata": {
    "id": "XyduVTH1E-Ff"
   },
   "source": [
    "country = \"Hungary\"\n",
    "original_prem = pd.read_excel(\"contact_matrices_152_countries/MUestimates_all_locations_1.xlsx\", sheet_name=country)\n",
    "populacio_table = pd.read_html('https://www.ksh.hu/stadat_files/nep/hu/nep0003.html')"
   ],
   "execution_count": 57,
   "outputs": []
  },
  {
   "cell_type": "code",
   "metadata": {
    "colab": {
     "base_uri": "https://localhost:8080/"
    },
    "id": "pJx7tfqPIkwv",
    "outputId": "5a5d9922-7ba9-402a-957d-1d7371eb0cbb"
   },
   "source": [
    "df2=populacio_table[0].tail(279//3)\n",
    "df2.drop([186,278],inplace=True)\n",
    "df2=df2[[\"Korév\",\"2021\"]]\n",
    "df2[\"Korév\"][277] = 90\n",
    "df2['2021'] = df2['2021'].str.replace(\" \",\"\")\n",
    "df2 = df2.astype(int)\n",
    "df2.set_index(\"Korév\", inplace=True)"
   ],
   "execution_count": 58,
   "outputs": [
    {
     "output_type": "stream",
     "name": "stderr",
     "text": [
      "/usr/local/lib/python3.7/dist-packages/pandas/core/frame.py:4174: SettingWithCopyWarning: \n",
      "A value is trying to be set on a copy of a slice from a DataFrame\n",
      "\n",
      "See the caveats in the documentation: https://pandas.pydata.org/pandas-docs/stable/user_guide/indexing.html#returning-a-view-versus-a-copy\n",
      "  errors=errors,\n"
     ]
    }
   ]
  },
  {
   "cell_type": "code",
   "metadata": {
    "id": "uwispZBoMMrk"
   },
   "source": [
    "ksh_pop_vector=[]\n",
    "for i in range(0,71,5):\n",
    "  ksh_pop_vector.append(df2[\"2021\"].loc[i:i+4].sum())\n",
    "ksh_pop_vector.append(df2[\"2021\"].loc[75:].sum())\n",
    "ksh_pop_vector = np.array(ksh_pop_vector).reshape(-1, 1)"
   ],
   "execution_count": 59,
   "outputs": []
  },
  {
   "cell_type": "code",
   "metadata": {
    "id": "_yeEq_XzQynI"
   },
   "source": [
    "full_prem = original_prem.to_numpy() * ksh_pop_vector\n",
    "full_prem = (full_prem + full_prem.T)/2"
   ],
   "execution_count": 60,
   "outputs": []
  },
  {
   "cell_type": "code",
   "metadata": {
    "colab": {
     "base_uri": "https://localhost:8080/"
    },
    "id": "PbDOQl7WXZoX",
    "outputId": "15384af9-60ae-4da0-badf-b53be6801b8c"
   },
   "source": [
    "reduced_ksh_pop_vector = np.array([ksh_pop_vector[0:3,:].sum(),\n",
    "                                   ksh_pop_vector[3:12,:].sum(),\n",
    "                                   ksh_pop_vector[12:,:].sum()]).reshape(-1, 1)\n",
    "reduced_ksh_pop_vector"
   ],
   "execution_count": 61,
   "outputs": [
    {
     "output_type": "execute_result",
     "data": {
      "text/plain": [
       "array([[1417233],\n",
       "       [5723488],\n",
       "       [2590051]])"
      ]
     },
     "metadata": {},
     "execution_count": 61
    }
   ]
  },
  {
   "cell_type": "code",
   "metadata": {
    "id": "7q9YRqmdYPGz"
   },
   "source": [
    "reduced_full_prem = np.array([[full_prem[0:3,0:3].sum(),full_prem[0:3,3:12].sum(),full_prem[0:3,12:].sum()],\n",
    "                              [full_prem[3:12,0:3].sum(),full_prem[3:12,3:12].sum(),full_prem[3:12,12:].sum()],\n",
    "                              [full_prem[12:,0:3].sum(),full_prem[12:,3:12].sum(),full_prem[12:,12:].sum()]])"
   ],
   "execution_count": 62,
   "outputs": []
  },
  {
   "cell_type": "code",
   "metadata": {
    "colab": {
     "base_uri": "https://localhost:8080/"
    },
    "id": "Hs5Ap3O0Yu2w",
    "outputId": "c96adc67-c27a-4c4f-f774-62db8f9574f9"
   },
   "source": [
    "reduced_full_prem"
   ],
   "execution_count": 63,
   "outputs": [
    {
     "output_type": "execute_result",
     "data": {
      "text/plain": [
       "array([[ 8032023.78703636,  7862617.46303875,  1933589.80501905],\n",
       "       [ 7862617.46303875, 67823712.36405726,  7795719.38950609],\n",
       "       [ 1933589.80501905,  7795719.38950609,  5995078.60275472]])"
      ]
     },
     "metadata": {},
     "execution_count": 63
    }
   ]
  },
  {
   "cell_type": "code",
   "metadata": {
    "colab": {
     "base_uri": "https://localhost:8080/"
    },
    "id": "FUPkDTxVYxnY",
    "outputId": "176a1ef4-1a49-463f-a12e-9fff6cb8060a"
   },
   "source": [
    "reduced_prem = reduced_full_prem * (1/reduced_ksh_pop_vector)\n",
    "reduced_prem"
   ],
   "execution_count": 64,
   "outputs": [
    {
     "output_type": "execute_result",
     "data": {
      "text/plain": [
       "array([[ 5.66739822,  5.54786507,  1.36434151],\n",
       "       [ 1.37374578, 11.85006632,  1.36205744],\n",
       "       [ 0.74654507,  3.009871  ,  2.31465659]])"
      ]
     },
     "metadata": {},
     "execution_count": 64
    }
   ]
  },
  {
   "cell_type": "markdown",
   "metadata": {
    "id": "YEmqjq8u_oTm"
   },
   "source": [
    "# Viruses"
   ]
  },
  {
   "cell_type": "code",
   "metadata": {
    "colab": {
     "base_uri": "https://localhost:8080/"
    },
    "id": "oLZOojDD_q_m",
    "outputId": "dad15ce4-2fd4-4e87-813a-eb107adaa1d7"
   },
   "source": [
    "viruses_pop_vector = [468605, 953134, 1678211, 4087976, 1312208, 839589, 433033]\n",
    "viruses_pop_vector_aggr = [sum(viruses_pop_vector[0:2]),\n",
    "                           sum(viruses_pop_vector[2:4]),\n",
    "                           sum(viruses_pop_vector[4:])]\n",
    "viruses_pop_vector_aggr"
   ],
   "execution_count": 65,
   "outputs": [
    {
     "output_type": "execute_result",
     "data": {
      "text/plain": [
       "[1421739, 5766187, 2584830]"
      ]
     },
     "metadata": {},
     "execution_count": 65
    }
   ]
  },
  {
   "cell_type": "code",
   "metadata": {
    "id": "xQV3nYXfAadA"
   },
   "source": [
    "viruses_p = [0.95, 0.8, 0.7, 0.5, 0.4, 0.3, 0.2]\n",
    "viruses_xi = [0.333, 0.333, 0.297, 0.294, 0.292, 0.293, 0.293]\n",
    "viruses_h = [0.00045, 0.00045, 0.0042, 0.0442, 0.1162, 0.2682, 0.4945]\n",
    "viruses_mu = [0.2, 0.2, 0.216, 0.3, 0.582, 0.678, 0.687]"
   ],
   "execution_count": 66,
   "outputs": []
  },
  {
   "cell_type": "code",
   "metadata": {
    "colab": {
     "base_uri": "https://localhost:8080/"
    },
    "id": "Ds4R6Y9hBUaD",
    "outputId": "035aa7ef-b623-4bda-8322-bb5ed7bdd3f9"
   },
   "source": [
    "aggr_xi = np.array([(viruses_pop_vector[0]*viruses_xi[0]+viruses_pop_vector[1]*viruses_xi[1])/viruses_pop_vector_aggr[0],\n",
    "           (viruses_pop_vector[2]*viruses_xi[2]+viruses_pop_vector[3]*viruses_xi[3])/viruses_pop_vector_aggr[1],\n",
    "           (viruses_pop_vector[4]*viruses_xi[4]+viruses_pop_vector[5]*viruses_xi[5]+viruses_pop_vector[6]*viruses_xi[6])/viruses_pop_vector_aggr[2]])\n",
    "aggr_xi"
   ],
   "execution_count": 67,
   "outputs": [
    {
     "output_type": "execute_result",
     "data": {
      "text/plain": [
       "array([0.333     , 0.29487313, 0.29249234])"
      ]
     },
     "metadata": {},
     "execution_count": 67
    }
   ]
  },
  {
   "cell_type": "code",
   "metadata": {
    "colab": {
     "base_uri": "https://localhost:8080/"
    },
    "id": "2IhzqahLCNMu",
    "outputId": "ba9e8491-3eb2-4652-acd0-11fabda1a833"
   },
   "source": [
    "aggr_p = np.array([(viruses_pop_vector[0]*viruses_p[0]+viruses_pop_vector[1]*viruses_p[1])/viruses_pop_vector_aggr[0],\n",
    "          (viruses_pop_vector[2]*viruses_p[2]+viruses_pop_vector[3]*viruses_p[3])/viruses_pop_vector_aggr[1],\n",
    "          (viruses_pop_vector[4]*viruses_p[4]+viruses_pop_vector[5]*viruses_p[5]+viruses_pop_vector[6]*viruses_p[6])/viruses_pop_vector_aggr[2]])\n",
    "aggr_p"
   ],
   "execution_count": 68,
   "outputs": [
    {
     "output_type": "execute_result",
     "data": {
      "text/plain": [
       "array([0.84943998, 0.55820869, 0.33401288])"
      ]
     },
     "metadata": {},
     "execution_count": 68
    }
   ]
  },
  {
   "cell_type": "code",
   "metadata": {
    "colab": {
     "base_uri": "https://localhost:8080/"
    },
    "id": "6_VXEcJiCZZ9",
    "outputId": "b6838ced-c34d-4d71-e527-103d3727d2c3"
   },
   "source": [
    "aggr_h = np.array([(viruses_pop_vector[0]*viruses_h[0]+viruses_pop_vector[1]*viruses_h[1])/viruses_pop_vector_aggr[0],\n",
    "          (viruses_pop_vector[2]*viruses_h[2]+viruses_pop_vector[3]*viruses_h[3])/viruses_pop_vector_aggr[1],\n",
    "          (viruses_pop_vector[4]*viruses_h[4]+viruses_pop_vector[5]*viruses_h[5]+viruses_pop_vector[6]*viruses_h[6])/viruses_pop_vector_aggr[2]])\n",
    "aggr_h"
   ],
   "execution_count": 69,
   "outputs": [
    {
     "output_type": "execute_result",
     "data": {
      "text/plain": [
       "array([0.00045   , 0.03255826, 0.22894781])"
      ]
     },
     "metadata": {},
     "execution_count": 69
    }
   ]
  },
  {
   "cell_type": "code",
   "metadata": {
    "colab": {
     "base_uri": "https://localhost:8080/"
    },
    "id": "XxckqVnhCjTn",
    "outputId": "edde5f6b-b8fb-42b0-bca3-bc888095548e"
   },
   "source": [
    "aggr_mu = np.array([(viruses_pop_vector[0]*viruses_mu[0]+viruses_pop_vector[1]*viruses_mu[1])/viruses_pop_vector_aggr[0],\n",
    "          (viruses_pop_vector[2]*viruses_mu[2]+viruses_pop_vector[3]*viruses_mu[3])/viruses_pop_vector_aggr[1],\n",
    "          (viruses_pop_vector[4]*viruses_mu[4]+viruses_pop_vector[5]*viruses_mu[5]+viruses_pop_vector[6]*viruses_mu[6])/viruses_pop_vector_aggr[2]])\n",
    "aggr_mu"
   ],
   "execution_count": 70,
   "outputs": [
    {
     "output_type": "execute_result",
     "data": {
      "text/plain": [
       "array([0.2       , 0.27555235, 0.63077265])"
      ]
     },
     "metadata": {},
     "execution_count": 70
    }
   ]
  },
  {
   "cell_type": "code",
   "metadata": {
    "colab": {
     "base_uri": "https://localhost:8080/"
    },
    "id": "BuPwNafMCqJy",
    "outputId": "2408269f-a3c4-4db2-e446-8d837acf6e07"
   },
   "source": [
    "p_death = (1-aggr_p) * aggr_xi * aggr_h * aggr_mu\n",
    "p_death"
   ],
   "execution_count": 71,
   "outputs": [
    {
     "output_type": "execute_result",
     "data": {
      "text/plain": [
       "array([4.51228375e-06, 1.16873943e-03, 2.81312918e-02])"
      ]
     },
     "metadata": {},
     "execution_count": 71
    }
   ]
  }
 ]
}