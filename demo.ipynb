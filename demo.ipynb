{
 "cells": [
  {
   "cell_type": "code",
   "execution_count": null,
   "metadata": {},
   "outputs": [],
   "source": [
    "import json\n",
    "import os\n",
    "\n",
    "import matplotlib.pyplot as plt\n",
    "from matplotlib.pyplot import cm\n",
    "import numpy as np\n",
    "\n",
    "from simulator import generate_daily_data, Simulator"
   ]
  },
  {
   "cell_type": "markdown",
   "metadata": {},
   "source": [
    "# Sample run"
   ]
  },
  {
   "cell_type": "code",
   "execution_count": null,
   "metadata": {},
   "outputs": [],
   "source": [
    "graph_dict = json.load(open(\"graph_dict.json\"))"
   ]
  },
  {
   "cell_type": "code",
   "execution_count": null,
   "metadata": {},
   "outputs": [],
   "source": [
    "sim = Simulator(graph_dict=graph_dict)\n",
    "sim.run()"
   ]
  },
  {
   "cell_type": "code",
   "execution_count": null,
   "metadata": {},
   "outputs": [],
   "source": [
    "# Code to show graph\n",
    "\n",
    "aggregated = np.sum(sim.state_var, axis=2)\n",
    "\n",
    "fig, ax = plt.subplots()\n",
    "ax.plot(sim.time_series, aggregated[:, sim.c_idx[\"S\"]], \"g\", label=\"Susceptibles\", linewidth=2)\n",
    "ax.plot(sim.time_series, aggregated[:, sim.c_idx[\"E\"]], \"orange\", label=\"Exposed\", linewidth=2)\n",
    "ax.plot(sim.time_series, aggregated[:, sim.c_idx[\"I\"]], \"r\", label=\"Infected\", linewidth=2)\n",
    "ax.plot(sim.time_series, aggregated[:, sim.c_idx[\"R\"]], \"b\", label=\"Recovered\", linewidth=2)\n",
    "ax.plot(sim.time_series, aggregated[:, sim.c_idx[\"D\"]], \"gray\", label=\"Dead\", linewidth=2)\n",
    "ax.legend()\n",
    "plt.xlabel(\"Days\")\n",
    "plt.ylabel(\"Size of compartments\")\n",
    "plt.title(\"Time series of the compartments\")\n",
    "plt.tight_layout()\n",
    "os.makedirs('./plots', exist_ok=True)\n",
    "plt.savefig(\"./plots/compartments.pdf\",dpi=300)\n",
    "plt.show()"
   ]
  },
  {
   "cell_type": "code",
   "execution_count": null,
   "metadata": {},
   "outputs": [],
   "source": [
    "# Code to show graph\n",
    "colors = cm.Greens(0.5+np.linspace(0, 0.5, 3))\n",
    "\n",
    "fig, ax = plt.subplots()\n",
    "ax.plot(sim.time_series, sim.state_var[:, sim.c_idx[\"S\"], 0],\n",
    "        color=colors[0], label=\"Age group 0-14\", linewidth=2)\n",
    "ax.plot(sim.time_series, sim.state_var[:, sim.c_idx[\"S\"], 1],\n",
    "        color=colors[1], label=\"Age group 15-59\", linewidth=2)\n",
    "ax.plot(sim.time_series, sim.state_var[:, sim.c_idx[\"S\"], 2],\n",
    "        color=colors[2], label=\"Age group 60+\", linewidth=2)\n",
    "ax.legend()\n",
    "plt.xlabel(\"Days\")\n",
    "plt.ylabel(\"Number of susceptibles\")\n",
    "plt.title(\"Susceptible compartments by age groups\")\n",
    "plt.tight_layout()\n",
    "os.makedirs('./plots', exist_ok=True)\n",
    "plt.savefig(\"./plots/susceptible_age_groups.pdf\",dpi=300)\n",
    "plt.show()"
   ]
  },
  {
   "cell_type": "markdown",
   "metadata": {},
   "source": [
    "# Multiple runs from a given point"
   ]
  },
  {
   "cell_type": "code",
   "execution_count": null,
   "metadata": {},
   "outputs": [],
   "source": [
    "sim_original = Simulator(graph_dict=graph_dict)\n",
    "sim_original.run_after_peak(days=10)"
   ]
  },
  {
   "cell_type": "code",
   "execution_count": null,
   "metadata": {},
   "outputs": [],
   "source": [
    "time = np.array(sim_original.time_series).searchsorted(35)\n",
    "time1 = np.array(sim_original.time_series).searchsorted(25)"
   ]
  },
  {
   "cell_type": "code",
   "execution_count": null,
   "metadata": {},
   "outputs": [],
   "source": [
    "ts_list = []\n",
    "i_list = []\n",
    "for i in range(3):\n",
    "    sim_1 = Simulator(graph_dict=graph_dict)\n",
    "    sim_1.reset_for_new_simulation(init=sim_original.state_var[time])\n",
    "    sim_1.run_after_peak(10)\n",
    "    \n",
    "    aggregated = np.sum(sim_1.state_var, axis=2)\n",
    "    \n",
    "    ts_list.append(sim_1.time_series[:])\n",
    "    i_list.append(aggregated[:, sim_1.c_idx[\"I\"]])"
   ]
  },
  {
   "cell_type": "code",
   "execution_count": null,
   "metadata": {},
   "outputs": [],
   "source": [
    "aggregated = np.sum(sim_original.state_var, axis=2)\n",
    "i_time_series = sim_original.time_series[time1:time]\n",
    "i_values = aggregated[time1:time, sim_original.c_idx[\"I\"]]\n",
    "days = [26]\n",
    "day_i = [i_values[0]]\n",
    "for t in range(1,len(i_time_series)):\n",
    "    actual_time = i_time_series[t]\n",
    "    prev_time = i_time_series[t-1]\n",
    "    if prev_time <= days[-1] < actual_time:\n",
    "        days.append(days[-1]+1)\n",
    "        day_i.append(i_values[t-1])\n",
    "\n",
    "# days, day_i = generate_daily_data(time_series=i_time_series, values=i_values)"
   ]
  },
  {
   "cell_type": "code",
   "execution_count": null,
   "metadata": {},
   "outputs": [],
   "source": [
    "fig, ax = plt.subplots()\n",
    "aggregated = np.sum(sim_original.state_var, axis=2)\n",
    "ax.plot(days, day_i, \"m.\", linewidth=2, label=\"Original data\")\n",
    "\n",
    "color = cm.Reds(0.5+np.linspace(0, 0.5, len(ts_list)))\n",
    "for i, c in zip(range(len(ts_list)), color):\n",
    "    ax.plot(sim_original.time_series[time]+np.array(ts_list[i]), i_list[i],\n",
    "            color=c, linewidth=1, label=\"Simulation #\"+str(i+1))\n",
    "plt.xlabel(\"Days\")\n",
    "plt.ylabel(\"Number of infected people\")\n",
    "plt.title(\"Halting condition: 10 days after the first peak\")\n",
    "plt.legend()\n",
    "plt.tight_layout()\n",
    "os.makedirs('./plots', exist_ok=True)\n",
    "plt.savefig(\"./plots/stop_after_peak.pdf\",dpi=300)\n",
    "plt.show()"
   ]
  },
  {
   "cell_type": "markdown",
   "metadata": {},
   "source": [
    "# Contact reduction"
   ]
  },
  {
   "cell_type": "code",
   "execution_count": null,
   "metadata": {},
   "outputs": [],
   "source": [
    "sim_original = Simulator(graph_dict=graph_dict)\n",
    "sim_original.run_after_peak(20)"
   ]
  },
  {
   "cell_type": "code",
   "execution_count": null,
   "metadata": {},
   "outputs": [],
   "source": [
    "time1 = np.array(sim_original.time_series).searchsorted(30)\n",
    "time2 = np.array(sim_original.time_series).searchsorted(45)"
   ]
  },
  {
   "cell_type": "code",
   "execution_count": null,
   "metadata": {},
   "outputs": [],
   "source": [
    "ts_list = []\n",
    "i_list = []\n",
    "for i in range(1,4):\n",
    "    sim_1 = Simulator(graph_dict=graph_dict)\n",
    "    sim_1.reset_for_new_simulation(init=sim_original.state_var[time2])\n",
    "    sim_1.model.contact_matrix = sim_1.model.contact_matrix * (1 - 0.1 * i)\n",
    "    sim_1.run_after_peak(10)\n",
    "    \n",
    "    aggregated = np.sum(sim_1.state_var, axis=2)\n",
    "    \n",
    "    ts_list.append(sim_1.time_series[:])\n",
    "    i_list.append(aggregated[:, sim_1.c_idx[\"I\"]])"
   ]
  },
  {
   "cell_type": "code",
   "execution_count": null,
   "metadata": {},
   "outputs": [],
   "source": [
    "fig, ax = plt.subplots()\n",
    "aggregated = np.sum(sim_original.state_var, axis=2)\n",
    "i_lista = aggregated[:, sim_original.c_idx[\"I\"]]\n",
    "ax.plot(sim_original.time_series[time1:], i_lista[time1:], \"r\",\n",
    "        linewidth=2, label=\"No contact reduction\")\n",
    "\n",
    "color = cm.Reds(0.5+np.linspace(0, 0.5, len(ts_list)))\n",
    "for i, c in zip(range(len(ts_list)), color):\n",
    "    ax.plot(sim_original.time_series[time2]+np.array(ts_list[i])[time1:], i_list[i][time1:], color=c,\n",
    "            linewidth=1, label=str((i+1)*10) + \"% contact reduction\")\n",
    "plt.xlabel(\"Days\")\n",
    "plt.ylabel(\"Number of infected people\")\n",
    "plt.title(\"Effect of contact reduction\")\n",
    "plt.legend()\n",
    "plt.tight_layout()\n",
    "os.makedirs('./plots', exist_ok=True)\n",
    "plt.savefig(\"./plots/contact_reduction.pdf\",dpi=300)\n",
    "plt.show()"
   ]
  },
  {
   "cell_type": "markdown",
   "metadata": {},
   "source": [
    "# Simulation with confidence calculation"
   ]
  },
  {
   "cell_type": "code",
   "execution_count": null,
   "metadata": {
    "pycharm": {
     "name": "#%%\n"
    }
   },
   "outputs": [],
   "source": [
    "do_conf_simulation = False"
   ]
  },
  {
   "cell_type": "code",
   "execution_count": null,
   "metadata": {
    "pycharm": {
     "name": "#%%\n"
    }
   },
   "outputs": [],
   "source": [
    "graph_dict = json.load(open(\"graph_dict.json\"))\n",
    "sim = Simulator(graph_dict=graph_dict)"
   ]
  },
  {
   "cell_type": "code",
   "execution_count": null,
   "metadata": {
    "pycharm": {
     "name": "#%%\n"
    }
   },
   "outputs": [],
   "source": [
    "if do_conf_simulation:\n",
    "    sim.run_conf()"
   ]
  },
  {
   "cell_type": "code",
   "execution_count": null,
   "metadata": {
    "pycharm": {
     "name": "#%%\n"
    }
   },
   "outputs": [],
   "source": [
    "# Number of simulations\n",
    "n_simulations = 104\n",
    "# List for storing infection curves for all simulations\n",
    "to_plot = []\n",
    "# List for storing peak sizes/times from all simulations\n",
    "peak_sizes = []\n",
    "peak_times = []\n",
    "# List for storing daily sampled data\n",
    "daily_data = []\n",
    "y_data = []\n",
    "\n",
    "for sim_cnt in range(n_simulations):\n",
    "    # Load data\n",
    "    data=np.load(\"./data/simulation_\" + str(sim_cnt) + \".npz\")\n",
    "    time_series = data['t']\n",
    "    state_var = data['y']\n",
    "    aggregated = np.sum(state_var, axis=2)\n",
    "    \n",
    "    # Save data for multiple time series plot\n",
    "    to_plot.append((time_series, aggregated[:, sim.c_idx[\"I\"]]))\n",
    "\n",
    "    # Generate daily data\n",
    "    days, day_i = generate_daily_data(time_data=time_series, values=aggregated[:, sim.c_idx[\"I\"]])\n",
    "    daily_data.append((days, day_i))\n",
    "    y_data.append(day_i)\n",
    "\n",
    "    # Save data for confidence calculation\n",
    "    i_agg_max = np.amax(aggregated[:, sim.c_idx[\"I\"]])\n",
    "    peak_sizes.append(i_agg_max)\n",
    "    peak_times.append(time_series[np.argmax(aggregated[:, sim.c_idx[\"I\"]])])\n",
    "y_data = np.array(y_data)\n",
    "\n",
    "# Standard deviation calculated for confidence band\n",
    "m = np.mean(np.array(peak_sizes))\n",
    "s = np.std(np.array(peak_sizes))"
   ]
  },
  {
   "cell_type": "code",
   "execution_count": null,
   "metadata": {
    "pycharm": {
     "name": "#%%\n"
    }
   },
   "outputs": [],
   "source": [
    "# Plot multiple loaded time series\n",
    "\n",
    "fig, ax = plt.subplots()\n",
    "for ts, sv in to_plot:\n",
    "    ax.plot(ts, sv)\n",
    "plt.show()"
   ]
  },
  {
   "cell_type": "code",
   "execution_count": null,
   "metadata": {
    "pycharm": {
     "name": "#%%\n"
    }
   },
   "outputs": [],
   "source": [
    "# Plot multiple daily time series\n",
    "\n",
    "fig, ax = plt.subplots()\n",
    "for ts, sv in daily_data:\n",
    "    ax.plot(ts, sv)\n",
    "plt.show()"
   ]
  },
  {
   "cell_type": "code",
   "execution_count": null,
   "metadata": {
    "pycharm": {
     "name": "#%%\n"
    }
   },
   "outputs": [],
   "source": [
    "os.makedirs('./plots', exist_ok=True)\n",
    "fig.savefig('./plots/conf_plot.pdf')"
   ]
  },
  {
   "cell_type": "code",
   "execution_count": null,
   "metadata": {
    "pycharm": {
     "name": "#%%\n"
    }
   },
   "outputs": [],
   "source": [
    "# Plot confidence band 1.\n",
    "\n",
    "y_mean = np.mean(y_data, axis=0)\n",
    "\n",
    "fig, ax = plt.subplots()\n",
    "ax.fill_between(daily_data[0][0], y_mean - 2 * s, y_mean + 2 * s, alpha=0.3)\n",
    "ax.plot(daily_data[0][0], y_mean, \"r\")\n",
    "plt.show()"
   ]
  },
  {
   "cell_type": "code",
   "execution_count": null,
   "metadata": {
    "pycharm": {
     "name": "#%%\n"
    }
   },
   "outputs": [],
   "source": [
    "os.makedirs('./plots', exist_ok=True)\n",
    "fig.savefig('./plots/conf_plot_2.pdf')"
   ]
  },
  {
   "cell_type": "code",
   "execution_count": null,
   "metadata": {},
   "outputs": [],
   "source": [
    "# Plot confidence band 2.\n",
    "\n",
    "y_mean = np.mean(y_data, axis=0)\n",
    "y_min = np.amin(y_data, axis=0)\n",
    "y_max = np.amax(y_data, axis=0)\n",
    "\n",
    "fig, ax = plt.subplots()\n",
    "ax.fill_between(daily_data[0][0], y_min, y_max, alpha=0.3)\n",
    "ax.plot(daily_data[0][0], y_mean, \"r\")\n",
    "plt.show()"
   ]
  },
  {
   "cell_type": "code",
   "execution_count": null,
   "metadata": {
    "pycharm": {
     "name": "#%%\n"
    }
   },
   "outputs": [],
   "source": [
    "os.makedirs('./plots', exist_ok=True)\n",
    "fig.savefig('./plots/conf_plot_3.pdf')"
   ]
  },
  {
   "cell_type": "code",
   "execution_count": null,
   "metadata": {
    "pycharm": {
     "name": "#%%\n"
    }
   },
   "outputs": [],
   "source": [
    "# Plot confidence band 3.\n",
    "\n",
    "t_vec = np.array(daily_data[0][0])\n",
    "peak = m * np.ones_like(t_vec)\n",
    "filt = (min(peak_times) < t_vec) & (t_vec < max(peak_times))\n",
    "\n",
    "fig, ax = plt.subplots()\n",
    "ax.fill_between(t_vec[filt], peak[filt] - 2 * s, peak[filt] + 2 * s, alpha=0.9)\n",
    "for ts, sv in daily_data:\n",
    "    ax.plot(t_vec[filt], np.array(sv)[filt])\n",
    "ax.set_ylim(28000, 30000)\n",
    "plt.show()"
   ]
  },
  {
   "cell_type": "code",
   "execution_count": null,
   "metadata": {
    "pycharm": {
     "name": "#%%\n"
    }
   },
   "outputs": [],
   "source": [
    "os.makedirs('./plots', exist_ok=True)\n",
    "fig.savefig('./plots/conf_plot_4.pdf')"
   ]
  },
  {
   "cell_type": "code",
   "execution_count": null,
   "metadata": {
    "pycharm": {
     "name": "#%%\n"
    }
   },
   "outputs": [],
   "source": [
    "# Plot confidence band 4.\n",
    "\n",
    "y_mean = np.mean(y_data, axis=0)\n",
    "peak = np.amax(y_mean) * np.ones_like(y_mean)\n",
    "t_vec = np.array(daily_data[0][0])\n",
    "filt = (min(peak_times) < t_vec) & (t_vec < max(peak_times))\n",
    "\n",
    "fig, ax = plt.subplots()\n",
    "ax.fill_between(t_vec[filt], peak[filt] - 2 * s, peak[filt] + 2 * s, alpha=0.9)\n",
    "ax.plot(t_vec[filt], y_mean[filt], \"r\")\n",
    "ax.set_ylim(22000, 30000)\n",
    "plt.show()"
   ]
  },
  {
   "cell_type": "code",
   "execution_count": null,
   "metadata": {},
   "outputs": [],
   "source": [
    "os.makedirs('./plots', exist_ok=True)\n",
    "fig.savefig('./plots/conf_plot_5.pdf')"
   ]
  },
  {
   "cell_type": "code",
   "execution_count": null,
   "metadata": {
    "pycharm": {
     "name": "#%%\n"
    }
   },
   "outputs": [],
   "source": [
    "print(np.array([len(v) for _, v in daily_data]))\n",
    "print(np.array([len(t) for t, _ in daily_data]))"
   ]
  },
  {
   "cell_type": "code",
   "execution_count": null,
   "metadata": {},
   "outputs": [],
   "source": []
  }
 ],
 "metadata": {
  "kernelspec": {
   "display_name": "Python 3 (ipykernel)",
   "language": "python",
   "name": "python3"
  },
  "language_info": {
   "codemirror_mode": {
    "name": "ipython",
    "version": 3
   },
   "file_extension": ".py",
   "mimetype": "text/x-python",
   "name": "python",
   "nbconvert_exporter": "python",
   "pygments_lexer": "ipython3",
   "version": "3.8.10"
  }
 },
 "nbformat": 4,
 "nbformat_minor": 1
}