{
 "cells": [
  {
   "cell_type": "code",
   "execution_count": null,
   "metadata": {},
   "outputs": [],
   "source": [
    "import random\n",
    "\n",
    "import matplotlib.pyplot as plt\n",
    "import numpy as np\n",
    "\n",
    "from model_graph import ModelGraph"
   ]
  },
  {
   "cell_type": "code",
   "execution_count": null,
   "metadata": {},
   "outputs": [],
   "source": [
    "pop_ratio = np.array([1417233, 5723488, 2590051]) / np.sum(np.array([1417233, 5723488, 2590051]))\n",
    "pop = 200000 * pop_ratio\n",
    "p_death = [4.51228375e-06, 1.16873943e-03, 2.81312918e-02]\n",
    "\n",
    "alpha = 1 / 5.2\n",
    "gamma = 1 / 5.0\n",
    "nu = 1 / 180.0\n",
    "beta = 0.002\n",
    "\n",
    "graph_dict = {\n",
    "    \"age_groups\": 3,\n",
    "    \"pop\": pop,\n",
    "    \"nodes\": {\n",
    "        \"S\": {\"init\": list(pop - np.array([10, 0, 0]))},\n",
    "        \"E\": {\"init\": [10, 0, 0]},\n",
    "        \"I\": {\"init\": [0, 0, 0]},\n",
    "        \"R\": {\"init\": [0, 0, 0]},\n",
    "        \"D\": {\"init\": [0, 0, 0]}\n",
    "    },\n",
    "    # key pair: (state_from, state_to)\n",
    "    \"edges\": {\n",
    "        (\"S\", \"E\"): {\n",
    "            \"weight\": 0.002\n",
    "        },\n",
    "        (\"E\", \"I\"): {\n",
    "            \"weight\": alpha\n",
    "        },\n",
    "        (\"I\", \"R\"): {\n",
    "            \"weight\": list((1 - p_death) * gamma)\n",
    "        },\n",
    "        (\"I\", \"D\"): {\n",
    "            \"weight\": list(p_death * gamma)\n",
    "        },\n",
    "        (\"R\", \"S\"): {\n",
    "            \"weight\": nu\n",
    "        }\n",
    "    },\n",
    "    # key triplet: (infectious, susceptible, infected)\n",
    "    \"transmission\": {\n",
    "        (\"I\", \"S\", \"E\"):\n",
    "        # parameter enabling various infectivity\n",
    "            {\"param\": 1.0}\n",
    "    },\n",
    "    \"contact_matrix\":\n",
    "        [[ 5.66739822,  5.54786507,  1.36434151],\n",
    "         [ 1.37374578, 11.85006632,  1.36205744],\n",
    "         [ 0.74654507,  3.009871  ,  2.31465659]]\n",
    "}"
   ]
  },
  {
   "cell_type": "markdown",
   "metadata": {},
   "source": [
    "# Version 2."
   ]
  },
  {
   "cell_type": "code",
   "execution_count": null,
   "metadata": {},
   "outputs": [],
   "source": [
    "from simulator import Simulator"
   ]
  },
  {
   "cell_type": "code",
   "execution_count": null,
   "metadata": {},
   "outputs": [],
   "source": [
    "sim = Simulator(graph_dict=graph_dict)\n",
    "sim.run()"
   ]
  },
  {
   "cell_type": "code",
   "execution_count": null,
   "metadata": {},
   "outputs": [],
   "source": [
    "# Code to show graph\n",
    "\n",
    "fig, ax = plt.subplots()\n",
    "ax.plot(sim.time_series, sim.state_var[:, 0, 0], \"g\")\n",
    "ax.plot(sim.time_series, sim.state_var[:, 1, 0], \"r\")\n",
    "ax.plot(sim.time_series, sim.state_var[:, 2, 0], \"b\")\n",
    "ax.plot(sim.time_series, sim.state_var[:, 3, 0], \"purple\")\n",
    "ax.legend([\"Susceptibles\", \"Exposed\", \"Infected\", \"Recovered\"], loc=\"best\") \n",
    "plt.show()"
   ]
  },
  {
   "cell_type": "code",
   "execution_count": null,
   "metadata": {},
   "outputs": [],
   "source": []
  }
 ],
 "metadata": {
  "kernelspec": {
   "display_name": "Python 3 (ipykernel)",
   "language": "python",
   "name": "python3"
  },
  "language_info": {
   "codemirror_mode": {
    "name": "ipython",
    "version": 3
   },
   "file_extension": ".py",
   "mimetype": "text/x-python",
   "name": "python",
   "nbconvert_exporter": "python",
   "pygments_lexer": "ipython3",
   "version": "3.7.4"
  }
 },
 "nbformat": 4,
 "nbformat_minor": 1
}
