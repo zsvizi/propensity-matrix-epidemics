{
 "cells": [
  {
   "cell_type": "code",
   "execution_count": null,
   "metadata": {},
   "outputs": [],
   "source": [
    "import json\n",
    "import random\n",
    "\n",
    "import matplotlib.pyplot as plt\n",
    "import numpy as np\n",
    "from matplotlib.pyplot import cm\n",
    "\n",
    "from model_graph import ModelGraph\n",
    "from simulator import Simulator"
   ]
  },
  {
   "cell_type": "markdown",
   "metadata": {},
   "source": [
    "# Demo run"
   ]
  },
  {
   "cell_type": "code",
   "execution_count": null,
   "metadata": {},
   "outputs": [],
   "source": [
    "graph_dict = json.load(open(\"graph_dict.json\"))"
   ]
  },
  {
   "cell_type": "code",
   "execution_count": null,
   "metadata": {},
   "outputs": [],
   "source": [
    "sim = Simulator(graph_dict=graph_dict)\n",
    "sim.run()"
   ]
  },
  {
   "cell_type": "code",
   "execution_count": null,
   "metadata": {},
   "outputs": [],
   "source": [
    "# Code to show graph\n",
    "\n",
    "aggregated = np.sum(sim.state_var, axis=2)\n",
    "\n",
    "fig, ax = plt.subplots()\n",
    "ax.plot(sim.time_series, aggregated[:, sim.c_idx[\"S\"]], \"g\", label=\"Susceptibles\")\n",
    "ax.plot(sim.time_series, aggregated[:, sim.c_idx[\"E\"]], \"r\", label=\"Exposed\")\n",
    "ax.plot(sim.time_series, aggregated[:, sim.c_idx[\"I\"]], \"b\", label=\"Infected\")\n",
    "ax.plot(sim.time_series, aggregated[:, sim.c_idx[\"R\"]], \"purple\", label=\"Recovered\")\n",
    "ax.legend()\n",
    "plt.xlabel(\"Days\")\n",
    "plt.ylabel(\"Size of compartments\")\n",
    "plt.title(\"Time series of the compartments\")\n",
    "plt.savefig(\"compartments.pdf\",dpi=300)\n",
    "plt.show()"
   ]
  },
  {
   "cell_type": "code",
   "execution_count": null,
   "metadata": {},
   "outputs": [],
   "source": [
    "# Code to show graph\n",
    "\n",
    "fig, ax = plt.subplots()\n",
    "ax.plot(sim.time_series, sim.state_var[:, sim.c_idx[\"S\"], 0], \"g\", label=\"Age group 0-14\")\n",
    "ax.plot(sim.time_series, sim.state_var[:, sim.c_idx[\"S\"], 1], \"r\", label=\"Age group 15-59\")\n",
    "ax.plot(sim.time_series, sim.state_var[:, sim.c_idx[\"S\"], 2], \"b\", label=\"Age group 60+\")\n",
    "ax.legend()\n",
    "plt.xlabel(\"Days\")\n",
    "plt.ylabel(\"Number of susceptibles\")\n",
    "plt.title(\"Susceptible compartments by age groups\")\n",
    "plt.savefig(\"susceptible_age_groups.pdf\",dpi=300)\n",
    "plt.show()"
   ]
  },
  {
   "cell_type": "markdown",
   "metadata": {},
   "source": [
    "# Multiple runs from a given point"
   ]
  },
  {
   "cell_type": "code",
   "execution_count": null,
   "metadata": {},
   "outputs": [],
   "source": [
    "sim_original = Simulator(graph_dict=graph_dict)\n",
    "sim_original.run_after_csocs(10)"
   ]
  },
  {
   "cell_type": "code",
   "execution_count": null,
   "metadata": {},
   "outputs": [],
   "source": [
    "time = np.array(sim_original.time_series).searchsorted(35)"
   ]
  },
  {
   "cell_type": "code",
   "execution_count": null,
   "metadata": {},
   "outputs": [],
   "source": [
    "ts_list = []\n",
    "i_list = []\n",
    "for i in range(3):\n",
    "    sim_1 = Simulator(graph_dict=graph_dict)\n",
    "    sim_1.init_vals = sim_original.state_var[time]\n",
    "    sim_1.state_var = [sim_1.init_vals]\n",
    "    sim_1.last_state = sim_original.state_var[time]\n",
    "    sim_1.create_transition_matrix()\n",
    "    sim_1.create_transmission_matrix()\n",
    "    sim_1.run_after_csocs(10)\n",
    "    \n",
    "    aggregated = np.sum(sim_1.state_var, axis=2)\n",
    "    \n",
    "    ts_list.append(sim_1.time_series[:])\n",
    "    i_list.append(aggregated[:, sim_1.c_idx[\"I\"]])"
   ]
  },
  {
   "cell_type": "code",
   "execution_count": null,
   "metadata": {},
   "outputs": [],
   "source": [
    "fig, ax = plt.subplots()\n",
    "aggregated = np.sum(sim_original.state_var, axis=2)\n",
    "ax.plot(sim_original.time_series[:time], aggregated[:time, sim_original.c_idx[\"I\"]], \"b\", linewidth=2)\n",
    "\n",
    "color = cm.Blues(0.5+np.linspace(0, 0.5, len(ts_list)))\n",
    "for i, c in zip(range(len(ts_list)), color):\n",
    "    ax.plot(sim_original.time_series[time]+np.array(ts_list[i]), i_list[i], color=c, linewidth=1, label=\"Run #\"+str(i+1))\n",
    "plt.xlabel(\"Days\")\n",
    "plt.ylabel(\"Number of infected people\")\n",
    "plt.title(\"Halting condition: 10 days after the first peak\")\n",
    "plt.legend()\n",
    "plt.savefig(\"stop_after_peak.pdf\",dpi=300)\n",
    "plt.show()"
   ]
  },
  {
   "cell_type": "markdown",
   "metadata": {},
   "source": [
    "# Contact reduction"
   ]
  },
  {
   "cell_type": "code",
   "execution_count": null,
   "metadata": {},
   "outputs": [],
   "source": [
    "sim_original = Simulator(graph_dict=graph_dict)\n",
    "sim_original.run()"
   ]
  },
  {
   "cell_type": "code",
   "execution_count": null,
   "metadata": {},
   "outputs": [],
   "source": [
    "time1 = np.array(sim_original.time_series).searchsorted(25)\n",
    "time2 = np.array(sim_original.time_series).searchsorted(45)"
   ]
  },
  {
   "cell_type": "code",
   "execution_count": null,
   "metadata": {},
   "outputs": [],
   "source": [
    "ts_list = []\n",
    "i_list = []\n",
    "for i in range(1,4):\n",
    "    sim_1 = Simulator(graph_dict=graph_dict)\n",
    "    sim_1.init_vals = sim_original.state_var[time2]\n",
    "    sim_1.state_var = [sim_1.init_vals]\n",
    "    sim_1.last_state = sim_original.state_var[time2]\n",
    "    sim_1.model.contact_matrix = sim_1.model.contact_matrix * (1 - 0.1 * i)\n",
    "    sim_1.create_transition_matrix()\n",
    "    sim_1.create_transmission_matrix()\n",
    "    sim_1.run()\n",
    "    \n",
    "    aggregated = np.sum(sim_1.state_var, axis=2)\n",
    "    \n",
    "    ts_list.append(sim_1.time_series[:])\n",
    "    i_list.append(aggregated[:, sim_1.c_idx[\"I\"]])"
   ]
  },
  {
   "cell_type": "code",
   "execution_count": null,
   "metadata": {},
   "outputs": [],
   "source": [
    "fig, ax = plt.subplots()\n",
    "aggregated = np.sum(sim_original.state_var, axis=2)\n",
    "ax.plot(sim_original.time_series[:], aggregated[:, sim_original.c_idx[\"I\"]], \"b\",\n",
    "        linewidth=2, label=\"No contact reduction\")\n",
    "\n",
    "color = cm.Reds(0.5+np.linspace(0, 0.5, len(ts_list)))\n",
    "for i, c in zip(range(len(ts_list)), color):\n",
    "    ax.plot(sim_original.time_series[time2]+np.array(ts_list[i]), i_list[i], color=c,\n",
    "            linewidth=1, label=str((i+1)*10) + \"% contact reduction\")\n",
    "plt.xlabel(\"Days\")\n",
    "plt.ylabel(\"Number of infected people\")\n",
    "plt.title(\"Effect of contact reduction\")\n",
    "plt.legend()\n",
    "plt.savefig(\"contact_reduction.pdf\",dpi=300)\n",
    "plt.show()"
   ]
  },
  {
   "cell_type": "code",
   "execution_count": null,
   "metadata": {},
   "outputs": [],
   "source": []
  }
 ],
 "metadata": {
  "kernelspec": {
   "display_name": "Python 3 (ipykernel)",
   "language": "python",
   "name": "python3"
  },
  "language_info": {
   "codemirror_mode": {
    "name": "ipython",
    "version": 3
   },
   "file_extension": ".py",
   "mimetype": "text/x-python",
   "name": "python",
   "nbconvert_exporter": "python",
   "pygments_lexer": "ipython3",
   "version": "3.8.10"
  }
 },
 "nbformat": 4,
 "nbformat_minor": 1
}
