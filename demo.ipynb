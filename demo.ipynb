{
 "cells": [
  {
   "cell_type": "code",
   "execution_count": null,
   "metadata": {},
   "outputs": [],
   "source": [
    "import json\n",
    "import random\n",
    "\n",
    "import matplotlib.pyplot as plt\n",
    "import numpy as np\n",
    "\n",
    "from model_graph import ModelGraph\n",
    "from simulator import Simulator"
   ]
  },
  {
   "cell_type": "markdown",
   "metadata": {},
   "source": [
    "# Demo run"
   ]
  },
  {
   "cell_type": "code",
   "execution_count": null,
   "metadata": {},
   "outputs": [],
   "source": [
    "graph_dict = json.load(open(\"graph_dict.json\"))"
   ]
  },
  {
   "cell_type": "code",
   "execution_count": null,
   "metadata": {},
   "outputs": [],
   "source": [
    "sim = Simulator(graph_dict=graph_dict)\n",
    "sim.run()"
   ]
  },
  {
   "cell_type": "code",
   "execution_count": null,
   "metadata": {},
   "outputs": [],
   "source": [
    "# Code to show graph\n",
    "\n",
    "aggregated = np.sum(sim.state_var, axis=2)\n",
    "\n",
    "fig, ax = plt.subplots()\n",
    "ax.plot(sim.time_series, aggregated[:, sim.c_idx[\"S\"]], \"g\")\n",
    "ax.plot(sim.time_series, aggregated[:, sim.c_idx[\"E\"]], \"r\")\n",
    "ax.plot(sim.time_series, aggregated[:, sim.c_idx[\"I\"]], \"b\")\n",
    "ax.plot(sim.time_series, aggregated[:, sim.c_idx[\"R\"]], \"purple\")\n",
    "ax.legend([\"Susceptibles\", \"Exposed\", \"Infected\", \"Recovered\"], loc=\"best\") \n",
    "plt.show()"
   ]
  },
  {
   "cell_type": "code",
   "execution_count": null,
   "metadata": {},
   "outputs": [],
   "source": [
    "# Code to show graph\n",
    "\n",
    "fig, ax = plt.subplots()\n",
    "ax.plot(sim.time_series, sim.state_var[:, sim.c_idx[\"S\"], 0], \"g\")\n",
    "ax.plot(sim.time_series, sim.state_var[:, sim.c_idx[\"S\"], 1], \"r\")\n",
    "ax.plot(sim.time_series, sim.state_var[:, sim.c_idx[\"S\"], 2], \"b\")\n",
    "ax.legend([\"Age group 0-14\", \"Age group 15-59\", \"Age group 60+\"], loc=\"best\") \n",
    "plt.show()"
   ]
  },
  {
   "cell_type": "markdown",
   "metadata": {},
   "source": [
    "# Multiple runs from a given point"
   ]
  },
  {
   "cell_type": "code",
   "execution_count": null,
   "metadata": {},
   "outputs": [],
   "source": [
    "sim_original = sim"
   ]
  },
  {
   "cell_type": "code",
   "execution_count": null,
   "metadata": {},
   "outputs": [],
   "source": [
    "time = np.array(sim_original.time_series).searchsorted(40)"
   ]
  },
  {
   "cell_type": "code",
   "execution_count": null,
   "metadata": {},
   "outputs": [],
   "source": [
    "aggregated = np.sum(sim_original.state_var, axis=2)\n",
    "\n",
    "fig, ax = plt.subplots()\n",
    "ax.plot(sim_original.time_series[:time], aggregated[:time, sim_original.c_idx[\"I\"]], \"b\")\n",
    "ax.legend([\"Infected\"], loc=\"best\") \n",
    "plt.show()"
   ]
  },
  {
   "cell_type": "code",
   "execution_count": null,
   "metadata": {},
   "outputs": [],
   "source": [
    "ts_list = []\n",
    "i_list = []\n",
    "for i in range(3):\n",
    "    sim_1 = Simulator(graph_dict=graph_dict)\n",
    "    sim_1.init_vals = sim_original.state_var[time]\n",
    "    sim_1.state_var = [sim_1.init_vals]\n",
    "    sim_1.last_state = sim_original.state_var[time]\n",
    "    sim_1.create_transition_matrix()\n",
    "    sim_1.create_transmission_matrix()\n",
    "    sim_1.run()\n",
    "    \n",
    "    aggregated = np.sum(sim_1.state_var, axis=2)\n",
    "    \n",
    "    ts_list.append(sim_1.time_series[:])\n",
    "    i_list.append(aggregated[:, sim_1.c_idx[\"I\"]])"
   ]
  },
  {
   "cell_type": "code",
   "execution_count": null,
   "metadata": {},
   "outputs": [],
   "source": [
    "fig, ax = plt.subplots()\n",
    "aggregated = np.sum(sim_original.state_var, axis=2)\n",
    "ax.plot(sim_original.time_series[:time], aggregated[:time, sim_original.c_idx[\"I\"]], \"b\")\n",
    "for i in range(len(ts_list)):\n",
    "    ax.plot(sim_original.time_series[time]+np.array(ts_list[i]), i_list[i], \"r\")\n",
    "plt.show()"
   ]
  },
  {
   "cell_type": "markdown",
   "metadata": {},
   "source": [
    "# Contact reduction"
   ]
  },
  {
   "cell_type": "code",
   "execution_count": null,
   "metadata": {},
   "outputs": [],
   "source": [
    "time1 = np.array(sim_original.time_series).searchsorted(25)\n",
    "time2 = np.array(sim_original.time_series).searchsorted(45)"
   ]
  },
  {
   "cell_type": "code",
   "execution_count": null,
   "metadata": {},
   "outputs": [],
   "source": [
    "sim_1 = Simulator(graph_dict=graph_dict)\n",
    "sim_1.init_vals = sim_original.state_var[time2]\n",
    "sim_1.state_var = [sim_1.init_vals]\n",
    "sim_1.last_state = sim_original.state_var[time2]\n",
    "sim_1.model.contact_matrix = sim_1.model.contact_matrix * 0.5\n",
    "sim_1.create_transition_matrix()\n",
    "sim_1.create_transmission_matrix()\n",
    "sim_1.run_after_csocs()"
   ]
  },
  {
   "cell_type": "code",
   "execution_count": null,
   "metadata": {},
   "outputs": [],
   "source": [
    "fig, ax = plt.subplots()\n",
    "aggregated = np.sum(sim_original.state_var, axis=2)\n",
    "ax.plot(sim_original.time_series[:], aggregated[:, sim_original.c_idx[\"I\"]], \"b\")\n",
    "\n",
    "aggregated = np.sum(sim_1.state_var, axis=2)\n",
    "ax.plot(sim_original.time_series[time2]+np.array(sim_1.time_series[:]), aggregated[:, sim_1.c_idx[\"I\"]], \"r\")\n",
    "\n",
    "plt.show()"
   ]
  },
  {
   "cell_type": "code",
   "execution_count": null,
   "metadata": {},
   "outputs": [],
   "source": []
  },
  {
   "cell_type": "code",
   "execution_count": null,
   "metadata": {},
   "outputs": [],
   "source": []
  },
  {
   "cell_type": "code",
   "execution_count": null,
   "metadata": {},
   "outputs": [],
   "source": []
  },
  {
   "cell_type": "code",
   "execution_count": null,
   "metadata": {},
   "outputs": [],
   "source": []
  },
  {
   "cell_type": "code",
   "execution_count": null,
   "metadata": {},
   "outputs": [],
   "source": []
  }
 ],
 "metadata": {
  "kernelspec": {
   "display_name": "Python 3 (ipykernel)",
   "language": "python",
   "name": "python3"
  },
  "language_info": {
   "codemirror_mode": {
    "name": "ipython",
    "version": 3
   },
   "file_extension": ".py",
   "mimetype": "text/x-python",
   "name": "python",
   "nbconvert_exporter": "python",
   "pygments_lexer": "ipython3",
   "version": "3.8.10"
  }
 },
 "nbformat": 4,
 "nbformat_minor": 1
}
